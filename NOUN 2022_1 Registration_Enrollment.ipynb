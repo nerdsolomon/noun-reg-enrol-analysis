{
 "cells": [
  {
   "cell_type": "markdown",
   "id": "09929149",
   "metadata": {},
   "source": [
    "# Data Analysis On NOUN 2022/1 Student Enrollment And Registration \n",
    "\n",
    "### By Solomon Muoghara "
   ]
  },
  {
   "cell_type": "code",
   "execution_count": 1,
   "id": "02be212c",
   "metadata": {},
   "outputs": [],
   "source": [
    "import pandas as pd \n",
    "import seaborn as sb\n",
    "import matplotlib.pyplot as plt\n",
    "%matplotlib inline "
   ]
  },
  {
   "cell_type": "markdown",
   "id": "6063a952",
   "metadata": {},
   "source": [
    "### Data Gathering "
   ]
  },
  {
   "cell_type": "markdown",
   "id": "3edc33a9",
   "metadata": {},
   "source": [
    "The **Enrollment** dataset contains the total number of students that enrolled in the school from different study centres around the country into various levels of study."
   ]
  },
  {
   "cell_type": "code",
   "execution_count": 2,
   "id": "6dc0a97c",
   "metadata": {},
   "outputs": [],
   "source": [
    "enrol_df = pd.read_csv('20221 Enrolled Students by Programme.csv')"
   ]
  },
  {
   "cell_type": "markdown",
   "id": "630e44fd",
   "metadata": {},
   "source": [
    "The **Registration** dataset contains the total number of students that registered for the semester in the school at different study centres around the country into various levels of study."
   ]
  },
  {
   "cell_type": "code",
   "execution_count": 3,
   "id": "da482a22",
   "metadata": {},
   "outputs": [],
   "source": [
    "register_df = pd.read_csv('20221 Registered Students by Programme.csv')"
   ]
  },
  {
   "cell_type": "markdown",
   "id": "dff1a46e",
   "metadata": {},
   "source": [
    "### Assessing Data"
   ]
  },
  {
   "cell_type": "code",
   "execution_count": 4,
   "id": "31d77198",
   "metadata": {},
   "outputs": [
    {
     "data": {
      "text/html": [
       "<div>\n",
       "<style scoped>\n",
       "    .dataframe tbody tr th:only-of-type {\n",
       "        vertical-align: middle;\n",
       "    }\n",
       "\n",
       "    .dataframe tbody tr th {\n",
       "        vertical-align: top;\n",
       "    }\n",
       "\n",
       "    .dataframe thead th {\n",
       "        text-align: right;\n",
       "    }\n",
       "</style>\n",
       "<table border=\"1\" class=\"dataframe\">\n",
       "  <thead>\n",
       "    <tr style=\"text-align: right;\">\n",
       "      <th></th>\n",
       "      <th>Code</th>\n",
       "      <th>Centre</th>\n",
       "      <th>L100</th>\n",
       "      <th>L200</th>\n",
       "      <th>L300</th>\n",
       "      <th>L400</th>\n",
       "      <th>L500</th>\n",
       "      <th>L700</th>\n",
       "      <th>L800</th>\n",
       "      <th>L900</th>\n",
       "      <th>Total</th>\n",
       "    </tr>\n",
       "  </thead>\n",
       "  <tbody>\n",
       "    <tr>\n",
       "      <th>0</th>\n",
       "      <td>AB01</td>\n",
       "      <td>Umudike Study Centre</td>\n",
       "      <td>157</td>\n",
       "      <td>222</td>\n",
       "      <td>266</td>\n",
       "      <td>3857</td>\n",
       "      <td>1742</td>\n",
       "      <td>707</td>\n",
       "      <td>982</td>\n",
       "      <td>2</td>\n",
       "      <td>7935</td>\n",
       "    </tr>\n",
       "    <tr>\n",
       "      <th>1</th>\n",
       "      <td>AB02</td>\n",
       "      <td>Umuahia Correctional Service Study Centre</td>\n",
       "      <td>0</td>\n",
       "      <td>3</td>\n",
       "      <td>0</td>\n",
       "      <td>17</td>\n",
       "      <td>0</td>\n",
       "      <td>1</td>\n",
       "      <td>0</td>\n",
       "      <td>0</td>\n",
       "      <td>21</td>\n",
       "    </tr>\n",
       "    <tr>\n",
       "      <th>2</th>\n",
       "      <td>AB03</td>\n",
       "      <td>Asaga Community Study Centre</td>\n",
       "      <td>19</td>\n",
       "      <td>16</td>\n",
       "      <td>16</td>\n",
       "      <td>115</td>\n",
       "      <td>7</td>\n",
       "      <td>26</td>\n",
       "      <td>39</td>\n",
       "      <td>0</td>\n",
       "      <td>238</td>\n",
       "    </tr>\n",
       "    <tr>\n",
       "      <th>3</th>\n",
       "      <td>AD01</td>\n",
       "      <td>Yola Study Centre</td>\n",
       "      <td>173</td>\n",
       "      <td>266</td>\n",
       "      <td>239</td>\n",
       "      <td>1400</td>\n",
       "      <td>342</td>\n",
       "      <td>353</td>\n",
       "      <td>685</td>\n",
       "      <td>1</td>\n",
       "      <td>3459</td>\n",
       "    </tr>\n",
       "    <tr>\n",
       "      <th>4</th>\n",
       "      <td>AD02</td>\n",
       "      <td>Gulak Community Study Centre</td>\n",
       "      <td>26</td>\n",
       "      <td>41</td>\n",
       "      <td>46</td>\n",
       "      <td>277</td>\n",
       "      <td>58</td>\n",
       "      <td>57</td>\n",
       "      <td>151</td>\n",
       "      <td>0</td>\n",
       "      <td>656</td>\n",
       "    </tr>\n",
       "  </tbody>\n",
       "</table>\n",
       "</div>"
      ],
      "text/plain": [
       "   Code                                     Centre  L100  L200  L300  L400  \\\n",
       "0  AB01                       Umudike Study Centre   157   222   266  3857   \n",
       "1  AB02  Umuahia Correctional Service Study Centre     0     3     0    17   \n",
       "2  AB03               Asaga Community Study Centre    19    16    16   115   \n",
       "3  AD01                          Yola Study Centre   173   266   239  1400   \n",
       "4  AD02               Gulak Community Study Centre    26    41    46   277   \n",
       "\n",
       "   L500  L700  L800  L900  Total  \n",
       "0  1742   707   982     2   7935  \n",
       "1     0     1     0     0     21  \n",
       "2     7    26    39     0    238  \n",
       "3   342   353   685     1   3459  \n",
       "4    58    57   151     0    656  "
      ]
     },
     "execution_count": 4,
     "metadata": {},
     "output_type": "execute_result"
    }
   ],
   "source": [
    "enrol_df.head()"
   ]
  },
  {
   "cell_type": "code",
   "execution_count": 5,
   "id": "795f621c",
   "metadata": {},
   "outputs": [
    {
     "data": {
      "text/plain": [
       "(114, 11)"
      ]
     },
     "execution_count": 5,
     "metadata": {},
     "output_type": "execute_result"
    }
   ],
   "source": [
    "enrol_df.shape"
   ]
  },
  {
   "cell_type": "code",
   "execution_count": 6,
   "id": "b08e62a0",
   "metadata": {},
   "outputs": [
    {
     "data": {
      "text/html": [
       "<div>\n",
       "<style scoped>\n",
       "    .dataframe tbody tr th:only-of-type {\n",
       "        vertical-align: middle;\n",
       "    }\n",
       "\n",
       "    .dataframe tbody tr th {\n",
       "        vertical-align: top;\n",
       "    }\n",
       "\n",
       "    .dataframe thead th {\n",
       "        text-align: right;\n",
       "    }\n",
       "</style>\n",
       "<table border=\"1\" class=\"dataframe\">\n",
       "  <thead>\n",
       "    <tr style=\"text-align: right;\">\n",
       "      <th></th>\n",
       "      <th>L100</th>\n",
       "      <th>L200</th>\n",
       "      <th>L300</th>\n",
       "      <th>L400</th>\n",
       "      <th>L500</th>\n",
       "      <th>L700</th>\n",
       "      <th>L800</th>\n",
       "      <th>L900</th>\n",
       "      <th>Total</th>\n",
       "    </tr>\n",
       "  </thead>\n",
       "  <tbody>\n",
       "    <tr>\n",
       "      <th>count</th>\n",
       "      <td>114.000000</td>\n",
       "      <td>114.000000</td>\n",
       "      <td>114.000000</td>\n",
       "      <td>114.000000</td>\n",
       "      <td>114.000000</td>\n",
       "      <td>114.000000</td>\n",
       "      <td>114.000000</td>\n",
       "      <td>114.000000</td>\n",
       "      <td>114.000000</td>\n",
       "    </tr>\n",
       "    <tr>\n",
       "      <th>mean</th>\n",
       "      <td>236.000000</td>\n",
       "      <td>286.315789</td>\n",
       "      <td>261.833333</td>\n",
       "      <td>3496.429825</td>\n",
       "      <td>550.324561</td>\n",
       "      <td>470.798246</td>\n",
       "      <td>698.105263</td>\n",
       "      <td>1.728070</td>\n",
       "      <td>6001.535088</td>\n",
       "    </tr>\n",
       "    <tr>\n",
       "      <th>std</th>\n",
       "      <td>538.939388</td>\n",
       "      <td>569.941269</td>\n",
       "      <td>470.511733</td>\n",
       "      <td>7696.167042</td>\n",
       "      <td>1061.364446</td>\n",
       "      <td>958.826561</td>\n",
       "      <td>1359.506166</td>\n",
       "      <td>5.238194</td>\n",
       "      <td>12191.188888</td>\n",
       "    </tr>\n",
       "    <tr>\n",
       "      <th>min</th>\n",
       "      <td>0.000000</td>\n",
       "      <td>0.000000</td>\n",
       "      <td>0.000000</td>\n",
       "      <td>0.000000</td>\n",
       "      <td>0.000000</td>\n",
       "      <td>0.000000</td>\n",
       "      <td>0.000000</td>\n",
       "      <td>0.000000</td>\n",
       "      <td>1.000000</td>\n",
       "    </tr>\n",
       "    <tr>\n",
       "      <th>25%</th>\n",
       "      <td>17.250000</td>\n",
       "      <td>16.500000</td>\n",
       "      <td>9.250000</td>\n",
       "      <td>28.000000</td>\n",
       "      <td>2.000000</td>\n",
       "      <td>5.250000</td>\n",
       "      <td>12.000000</td>\n",
       "      <td>0.000000</td>\n",
       "      <td>96.250000</td>\n",
       "    </tr>\n",
       "    <tr>\n",
       "      <th>50%</th>\n",
       "      <td>53.000000</td>\n",
       "      <td>91.000000</td>\n",
       "      <td>86.000000</td>\n",
       "      <td>423.500000</td>\n",
       "      <td>73.500000</td>\n",
       "      <td>101.500000</td>\n",
       "      <td>160.000000</td>\n",
       "      <td>0.000000</td>\n",
       "      <td>986.000000</td>\n",
       "    </tr>\n",
       "    <tr>\n",
       "      <th>75%</th>\n",
       "      <td>197.000000</td>\n",
       "      <td>287.500000</td>\n",
       "      <td>274.250000</td>\n",
       "      <td>3509.250000</td>\n",
       "      <td>606.750000</td>\n",
       "      <td>517.750000</td>\n",
       "      <td>916.750000</td>\n",
       "      <td>2.000000</td>\n",
       "      <td>6918.000000</td>\n",
       "    </tr>\n",
       "    <tr>\n",
       "      <th>max</th>\n",
       "      <td>4002.000000</td>\n",
       "      <td>4176.000000</td>\n",
       "      <td>3274.000000</td>\n",
       "      <td>59977.000000</td>\n",
       "      <td>6964.000000</td>\n",
       "      <td>6477.000000</td>\n",
       "      <td>9917.000000</td>\n",
       "      <td>44.000000</td>\n",
       "      <td>92855.000000</td>\n",
       "    </tr>\n",
       "  </tbody>\n",
       "</table>\n",
       "</div>"
      ],
      "text/plain": [
       "              L100         L200         L300          L400         L500  \\\n",
       "count   114.000000   114.000000   114.000000    114.000000   114.000000   \n",
       "mean    236.000000   286.315789   261.833333   3496.429825   550.324561   \n",
       "std     538.939388   569.941269   470.511733   7696.167042  1061.364446   \n",
       "min       0.000000     0.000000     0.000000      0.000000     0.000000   \n",
       "25%      17.250000    16.500000     9.250000     28.000000     2.000000   \n",
       "50%      53.000000    91.000000    86.000000    423.500000    73.500000   \n",
       "75%     197.000000   287.500000   274.250000   3509.250000   606.750000   \n",
       "max    4002.000000  4176.000000  3274.000000  59977.000000  6964.000000   \n",
       "\n",
       "              L700         L800        L900         Total  \n",
       "count   114.000000   114.000000  114.000000    114.000000  \n",
       "mean    470.798246   698.105263    1.728070   6001.535088  \n",
       "std     958.826561  1359.506166    5.238194  12191.188888  \n",
       "min       0.000000     0.000000    0.000000      1.000000  \n",
       "25%       5.250000    12.000000    0.000000     96.250000  \n",
       "50%     101.500000   160.000000    0.000000    986.000000  \n",
       "75%     517.750000   916.750000    2.000000   6918.000000  \n",
       "max    6477.000000  9917.000000   44.000000  92855.000000  "
      ]
     },
     "execution_count": 6,
     "metadata": {},
     "output_type": "execute_result"
    }
   ],
   "source": [
    "enrol_df.describe()"
   ]
  },
  {
   "cell_type": "code",
   "execution_count": 7,
   "id": "ff629b7f",
   "metadata": {},
   "outputs": [
    {
     "data": {
      "text/plain": [
       "Index(['Code', 'Centre', 'L100', 'L200', 'L300', 'L400', 'L500', 'L700',\n",
       "       'L800', 'L900', 'Total'],\n",
       "      dtype='object')"
      ]
     },
     "execution_count": 7,
     "metadata": {},
     "output_type": "execute_result"
    }
   ],
   "source": [
    "enrol_df.columns"
   ]
  },
  {
   "cell_type": "code",
   "execution_count": 8,
   "id": "3c8994fd",
   "metadata": {},
   "outputs": [
    {
     "data": {
      "text/plain": [
       "Code      0\n",
       "Centre    0\n",
       "L100      0\n",
       "L200      0\n",
       "L300      0\n",
       "L400      0\n",
       "L500      0\n",
       "L700      0\n",
       "L800      0\n",
       "L900      0\n",
       "Total     0\n",
       "dtype: int64"
      ]
     },
     "execution_count": 8,
     "metadata": {},
     "output_type": "execute_result"
    }
   ],
   "source": [
    "enrol_df.isna().sum()"
   ]
  },
  {
   "cell_type": "markdown",
   "id": "25a7aadf",
   "metadata": {},
   "source": [
    "#### Enrolment dataset \n",
    "- 114 rows and 11 columns\n",
    "- 0 null values\n",
    "\n",
    "##### Tidiness\n",
    "- Renaming unreadable column names\n",
    "- Removing unnecessary column \"Total\"\n",
    "- Converting the columns L... into row as \"Levels\""
   ]
  },
  {
   "cell_type": "code",
   "execution_count": 9,
   "id": "f21fb370",
   "metadata": {},
   "outputs": [
    {
     "data": {
      "text/html": [
       "<div>\n",
       "<style scoped>\n",
       "    .dataframe tbody tr th:only-of-type {\n",
       "        vertical-align: middle;\n",
       "    }\n",
       "\n",
       "    .dataframe tbody tr th {\n",
       "        vertical-align: top;\n",
       "    }\n",
       "\n",
       "    .dataframe thead th {\n",
       "        text-align: right;\n",
       "    }\n",
       "</style>\n",
       "<table border=\"1\" class=\"dataframe\">\n",
       "  <thead>\n",
       "    <tr style=\"text-align: right;\">\n",
       "      <th></th>\n",
       "      <th>Code</th>\n",
       "      <th>Centre</th>\n",
       "      <th>L100</th>\n",
       "      <th>L200</th>\n",
       "      <th>L300</th>\n",
       "      <th>L400</th>\n",
       "      <th>L500</th>\n",
       "      <th>L700</th>\n",
       "      <th>L800</th>\n",
       "      <th>L900</th>\n",
       "      <th>Total</th>\n",
       "    </tr>\n",
       "  </thead>\n",
       "  <tbody>\n",
       "    <tr>\n",
       "      <th>0</th>\n",
       "      <td>AB01</td>\n",
       "      <td>Umudike Study Centre</td>\n",
       "      <td>99</td>\n",
       "      <td>152</td>\n",
       "      <td>174</td>\n",
       "      <td>283</td>\n",
       "      <td>147</td>\n",
       "      <td>70</td>\n",
       "      <td>140</td>\n",
       "      <td>1</td>\n",
       "      <td>1066</td>\n",
       "    </tr>\n",
       "    <tr>\n",
       "      <th>1</th>\n",
       "      <td>AB02</td>\n",
       "      <td>Umuahia Correctional Service Study Centre</td>\n",
       "      <td>0</td>\n",
       "      <td>3</td>\n",
       "      <td>0</td>\n",
       "      <td>9</td>\n",
       "      <td>0</td>\n",
       "      <td>0</td>\n",
       "      <td>0</td>\n",
       "      <td>0</td>\n",
       "      <td>12</td>\n",
       "    </tr>\n",
       "    <tr>\n",
       "      <th>2</th>\n",
       "      <td>AB03</td>\n",
       "      <td>Asaga Community Study Centre</td>\n",
       "      <td>17</td>\n",
       "      <td>3</td>\n",
       "      <td>5</td>\n",
       "      <td>19</td>\n",
       "      <td>0</td>\n",
       "      <td>4</td>\n",
       "      <td>11</td>\n",
       "      <td>0</td>\n",
       "      <td>59</td>\n",
       "    </tr>\n",
       "    <tr>\n",
       "      <th>3</th>\n",
       "      <td>AD01</td>\n",
       "      <td>Yola Study Centre</td>\n",
       "      <td>114</td>\n",
       "      <td>156</td>\n",
       "      <td>153</td>\n",
       "      <td>202</td>\n",
       "      <td>73</td>\n",
       "      <td>48</td>\n",
       "      <td>187</td>\n",
       "      <td>0</td>\n",
       "      <td>933</td>\n",
       "    </tr>\n",
       "    <tr>\n",
       "      <th>4</th>\n",
       "      <td>AD02</td>\n",
       "      <td>Gulak Community Study Centre</td>\n",
       "      <td>23</td>\n",
       "      <td>28</td>\n",
       "      <td>24</td>\n",
       "      <td>44</td>\n",
       "      <td>15</td>\n",
       "      <td>7</td>\n",
       "      <td>31</td>\n",
       "      <td>0</td>\n",
       "      <td>172</td>\n",
       "    </tr>\n",
       "  </tbody>\n",
       "</table>\n",
       "</div>"
      ],
      "text/plain": [
       "   Code                                     Centre  L100  L200  L300  L400  \\\n",
       "0  AB01                       Umudike Study Centre    99   152   174   283   \n",
       "1  AB02  Umuahia Correctional Service Study Centre     0     3     0     9   \n",
       "2  AB03               Asaga Community Study Centre    17     3     5    19   \n",
       "3  AD01                          Yola Study Centre   114   156   153   202   \n",
       "4  AD02               Gulak Community Study Centre    23    28    24    44   \n",
       "\n",
       "   L500  L700  L800  L900  Total  \n",
       "0   147    70   140     1   1066  \n",
       "1     0     0     0     0     12  \n",
       "2     0     4    11     0     59  \n",
       "3    73    48   187     0    933  \n",
       "4    15     7    31     0    172  "
      ]
     },
     "execution_count": 9,
     "metadata": {},
     "output_type": "execute_result"
    }
   ],
   "source": [
    "register_df.head()"
   ]
  },
  {
   "cell_type": "code",
   "execution_count": 10,
   "id": "0cc0c2c9",
   "metadata": {},
   "outputs": [
    {
     "data": {
      "text/plain": [
       "(108, 11)"
      ]
     },
     "execution_count": 10,
     "metadata": {},
     "output_type": "execute_result"
    }
   ],
   "source": [
    "register_df.shape"
   ]
  },
  {
   "cell_type": "code",
   "execution_count": 11,
   "id": "446d7d65",
   "metadata": {},
   "outputs": [
    {
     "data": {
      "text/plain": [
       "Index(['Code', 'Centre', 'L100', 'L200', 'L300', 'L400', 'L500', 'L700',\n",
       "       'L800', 'L900', 'Total'],\n",
       "      dtype='object')"
      ]
     },
     "execution_count": 11,
     "metadata": {},
     "output_type": "execute_result"
    }
   ],
   "source": [
    "register_df.columns"
   ]
  },
  {
   "cell_type": "code",
   "execution_count": 12,
   "id": "e3bd58da",
   "metadata": {},
   "outputs": [
    {
     "data": {
      "text/html": [
       "<div>\n",
       "<style scoped>\n",
       "    .dataframe tbody tr th:only-of-type {\n",
       "        vertical-align: middle;\n",
       "    }\n",
       "\n",
       "    .dataframe tbody tr th {\n",
       "        vertical-align: top;\n",
       "    }\n",
       "\n",
       "    .dataframe thead th {\n",
       "        text-align: right;\n",
       "    }\n",
       "</style>\n",
       "<table border=\"1\" class=\"dataframe\">\n",
       "  <thead>\n",
       "    <tr style=\"text-align: right;\">\n",
       "      <th></th>\n",
       "      <th>L100</th>\n",
       "      <th>L200</th>\n",
       "      <th>L300</th>\n",
       "      <th>L400</th>\n",
       "      <th>L500</th>\n",
       "      <th>L700</th>\n",
       "      <th>L800</th>\n",
       "      <th>L900</th>\n",
       "      <th>Total</th>\n",
       "    </tr>\n",
       "  </thead>\n",
       "  <tbody>\n",
       "    <tr>\n",
       "      <th>count</th>\n",
       "      <td>108.000000</td>\n",
       "      <td>108.000000</td>\n",
       "      <td>108.000000</td>\n",
       "      <td>108.000000</td>\n",
       "      <td>108.000000</td>\n",
       "      <td>108.000000</td>\n",
       "      <td>108.000000</td>\n",
       "      <td>108.000000</td>\n",
       "      <td>108.000000</td>\n",
       "    </tr>\n",
       "    <tr>\n",
       "      <th>mean</th>\n",
       "      <td>167.907407</td>\n",
       "      <td>156.361111</td>\n",
       "      <td>155.064815</td>\n",
       "      <td>282.120370</td>\n",
       "      <td>52.805556</td>\n",
       "      <td>50.148148</td>\n",
       "      <td>113.879630</td>\n",
       "      <td>0.268519</td>\n",
       "      <td>978.555556</td>\n",
       "    </tr>\n",
       "    <tr>\n",
       "      <th>std</th>\n",
       "      <td>387.346075</td>\n",
       "      <td>280.816448</td>\n",
       "      <td>272.985477</td>\n",
       "      <td>490.576272</td>\n",
       "      <td>67.697714</td>\n",
       "      <td>93.390829</td>\n",
       "      <td>180.742483</td>\n",
       "      <td>0.933354</td>\n",
       "      <td>1722.082484</td>\n",
       "    </tr>\n",
       "    <tr>\n",
       "      <th>min</th>\n",
       "      <td>0.000000</td>\n",
       "      <td>0.000000</td>\n",
       "      <td>0.000000</td>\n",
       "      <td>0.000000</td>\n",
       "      <td>0.000000</td>\n",
       "      <td>0.000000</td>\n",
       "      <td>0.000000</td>\n",
       "      <td>0.000000</td>\n",
       "      <td>3.000000</td>\n",
       "    </tr>\n",
       "    <tr>\n",
       "      <th>25%</th>\n",
       "      <td>10.000000</td>\n",
       "      <td>11.000000</td>\n",
       "      <td>3.750000</td>\n",
       "      <td>18.000000</td>\n",
       "      <td>1.000000</td>\n",
       "      <td>1.750000</td>\n",
       "      <td>4.750000</td>\n",
       "      <td>0.000000</td>\n",
       "      <td>59.000000</td>\n",
       "    </tr>\n",
       "    <tr>\n",
       "      <th>50%</th>\n",
       "      <td>36.500000</td>\n",
       "      <td>59.500000</td>\n",
       "      <td>58.000000</td>\n",
       "      <td>87.500000</td>\n",
       "      <td>26.000000</td>\n",
       "      <td>17.500000</td>\n",
       "      <td>46.500000</td>\n",
       "      <td>0.000000</td>\n",
       "      <td>393.000000</td>\n",
       "    </tr>\n",
       "    <tr>\n",
       "      <th>75%</th>\n",
       "      <td>131.500000</td>\n",
       "      <td>158.500000</td>\n",
       "      <td>159.000000</td>\n",
       "      <td>277.750000</td>\n",
       "      <td>82.250000</td>\n",
       "      <td>64.250000</td>\n",
       "      <td>157.000000</td>\n",
       "      <td>0.000000</td>\n",
       "      <td>1040.500000</td>\n",
       "    </tr>\n",
       "    <tr>\n",
       "      <th>max</th>\n",
       "      <td>2828.000000</td>\n",
       "      <td>1935.000000</td>\n",
       "      <td>1810.000000</td>\n",
       "      <td>3156.000000</td>\n",
       "      <td>306.000000</td>\n",
       "      <td>604.000000</td>\n",
       "      <td>1017.000000</td>\n",
       "      <td>6.000000</td>\n",
       "      <td>11601.000000</td>\n",
       "    </tr>\n",
       "  </tbody>\n",
       "</table>\n",
       "</div>"
      ],
      "text/plain": [
       "              L100         L200         L300         L400        L500  \\\n",
       "count   108.000000   108.000000   108.000000   108.000000  108.000000   \n",
       "mean    167.907407   156.361111   155.064815   282.120370   52.805556   \n",
       "std     387.346075   280.816448   272.985477   490.576272   67.697714   \n",
       "min       0.000000     0.000000     0.000000     0.000000    0.000000   \n",
       "25%      10.000000    11.000000     3.750000    18.000000    1.000000   \n",
       "50%      36.500000    59.500000    58.000000    87.500000   26.000000   \n",
       "75%     131.500000   158.500000   159.000000   277.750000   82.250000   \n",
       "max    2828.000000  1935.000000  1810.000000  3156.000000  306.000000   \n",
       "\n",
       "             L700         L800        L900         Total  \n",
       "count  108.000000   108.000000  108.000000    108.000000  \n",
       "mean    50.148148   113.879630    0.268519    978.555556  \n",
       "std     93.390829   180.742483    0.933354   1722.082484  \n",
       "min      0.000000     0.000000    0.000000      3.000000  \n",
       "25%      1.750000     4.750000    0.000000     59.000000  \n",
       "50%     17.500000    46.500000    0.000000    393.000000  \n",
       "75%     64.250000   157.000000    0.000000   1040.500000  \n",
       "max    604.000000  1017.000000    6.000000  11601.000000  "
      ]
     },
     "execution_count": 12,
     "metadata": {},
     "output_type": "execute_result"
    }
   ],
   "source": [
    "register_df.describe()"
   ]
  },
  {
   "cell_type": "code",
   "execution_count": 13,
   "id": "18a99619",
   "metadata": {},
   "outputs": [
    {
     "data": {
      "text/plain": [
       "Code      0\n",
       "Centre    0\n",
       "L100      0\n",
       "L200      0\n",
       "L300      0\n",
       "L400      0\n",
       "L500      0\n",
       "L700      0\n",
       "L800      0\n",
       "L900      0\n",
       "Total     0\n",
       "dtype: int64"
      ]
     },
     "execution_count": 13,
     "metadata": {},
     "output_type": "execute_result"
    }
   ],
   "source": [
    "register_df.isna().sum()"
   ]
  },
  {
   "cell_type": "markdown",
   "id": "2aa72cfb",
   "metadata": {},
   "source": [
    "#### Registration dataset\n",
    "- 108 rows and 11 columns \n",
    "- 0 null values \n",
    "\n",
    "##### Tidiness \n",
    "- Renaming unreadable column names like L...\n",
    "- Removing unnecessary column \"Total\"\n",
    "- Converting the columns L... into row as \"Levels\""
   ]
  },
  {
   "cell_type": "markdown",
   "id": "08e7004f",
   "metadata": {},
   "source": [
    "### Data Cleaning"
   ]
  },
  {
   "cell_type": "markdown",
   "id": "57497386",
   "metadata": {},
   "source": [
    "##### Dropping unnecessary column \"Total\" in both datasets "
   ]
  },
  {
   "cell_type": "code",
   "execution_count": 14,
   "id": "74789437",
   "metadata": {},
   "outputs": [],
   "source": [
    "register_df.drop(columns = 'Total', inplace=True)"
   ]
  },
  {
   "cell_type": "code",
   "execution_count": 15,
   "id": "e2aa0321",
   "metadata": {},
   "outputs": [],
   "source": [
    "enrol_df.drop(columns = 'Total', inplace=True)"
   ]
  },
  {
   "cell_type": "markdown",
   "id": "f915471c",
   "metadata": {},
   "source": [
    "##### Renaming unreadable column names in both datasets"
   ]
  },
  {
   "cell_type": "code",
   "execution_count": 16,
   "id": "0f4aa36c",
   "metadata": {},
   "outputs": [
    {
     "data": {
      "text/plain": [
       "Index(['Code', 'Centre', 100, 200, 300, 400, 500, 'PGD', 'Masters', 'PHD'], dtype='object')"
      ]
     },
     "execution_count": 16,
     "metadata": {},
     "output_type": "execute_result"
    }
   ],
   "source": [
    "register_df.rename(columns={'L100':100,'L200':200,'L300':300,'L400':400,'L500':500,\n",
    "                    'L700':'PGD','L800':'Masters','L900':'PHD'}, inplace=True)\n",
    "register_df.columns        "
   ]
  },
  {
   "cell_type": "code",
   "execution_count": 17,
   "id": "4ea4a9f2",
   "metadata": {},
   "outputs": [
    {
     "data": {
      "text/plain": [
       "Index(['Code', 'Centre', 100, 200, 300, 400, 500, 'PGD', 'Masters', 'PHD'], dtype='object')"
      ]
     },
     "execution_count": 17,
     "metadata": {},
     "output_type": "execute_result"
    }
   ],
   "source": [
    "enrol_df.rename(columns={'L100':100,'L200':200,'L300':300,'L400':400,'L500':500,\n",
    "                    'L700':'PGD','L800':'Masters','L900':'PHD'}, inplace=True)\n",
    "enrol_df.columns"
   ]
  },
  {
   "cell_type": "markdown",
   "id": "f0518718",
   "metadata": {},
   "source": [
    "##### Converting the L... columns into a single column \"Levels\""
   ]
  },
  {
   "cell_type": "code",
   "execution_count": 18,
   "id": "9e6723cf",
   "metadata": {},
   "outputs": [],
   "source": [
    "enrol = enrol_df.melt(id_vars = ['Code', 'Centre'], var_name = 'Levels',\n",
    "              value_name = 'Enrolled')"
   ]
  },
  {
   "cell_type": "code",
   "execution_count": 19,
   "id": "0e94f7e3",
   "metadata": {},
   "outputs": [],
   "source": [
    "register = register_df.melt(id_vars = ['Code', 'Centre'], var_name = 'Levels',\n",
    "              value_name = 'Registered')"
   ]
  },
  {
   "cell_type": "markdown",
   "id": "71ff8ce8",
   "metadata": {},
   "source": [
    "### Merge Both Datasets "
   ]
  },
  {
   "cell_type": "code",
   "execution_count": 20,
   "id": "fc8d50b1",
   "metadata": {},
   "outputs": [],
   "source": [
    "df = enrol.merge(register)"
   ]
  },
  {
   "cell_type": "markdown",
   "id": "e3e34310",
   "metadata": {},
   "source": [
    "#### Assessing the new dataset"
   ]
  },
  {
   "cell_type": "code",
   "execution_count": 21,
   "id": "5b6e74cb",
   "metadata": {},
   "outputs": [
    {
     "data": {
      "text/html": [
       "<div>\n",
       "<style scoped>\n",
       "    .dataframe tbody tr th:only-of-type {\n",
       "        vertical-align: middle;\n",
       "    }\n",
       "\n",
       "    .dataframe tbody tr th {\n",
       "        vertical-align: top;\n",
       "    }\n",
       "\n",
       "    .dataframe thead th {\n",
       "        text-align: right;\n",
       "    }\n",
       "</style>\n",
       "<table border=\"1\" class=\"dataframe\">\n",
       "  <thead>\n",
       "    <tr style=\"text-align: right;\">\n",
       "      <th></th>\n",
       "      <th>Code</th>\n",
       "      <th>Centre</th>\n",
       "      <th>Levels</th>\n",
       "      <th>Enrolled</th>\n",
       "      <th>Registered</th>\n",
       "    </tr>\n",
       "  </thead>\n",
       "  <tbody>\n",
       "    <tr>\n",
       "      <th>0</th>\n",
       "      <td>AB01</td>\n",
       "      <td>Umudike Study Centre</td>\n",
       "      <td>100</td>\n",
       "      <td>157</td>\n",
       "      <td>99</td>\n",
       "    </tr>\n",
       "    <tr>\n",
       "      <th>1</th>\n",
       "      <td>AB02</td>\n",
       "      <td>Umuahia Correctional Service Study Centre</td>\n",
       "      <td>100</td>\n",
       "      <td>0</td>\n",
       "      <td>0</td>\n",
       "    </tr>\n",
       "    <tr>\n",
       "      <th>2</th>\n",
       "      <td>AB03</td>\n",
       "      <td>Asaga Community Study Centre</td>\n",
       "      <td>100</td>\n",
       "      <td>19</td>\n",
       "      <td>17</td>\n",
       "    </tr>\n",
       "    <tr>\n",
       "      <th>3</th>\n",
       "      <td>AD01</td>\n",
       "      <td>Yola Study Centre</td>\n",
       "      <td>100</td>\n",
       "      <td>173</td>\n",
       "      <td>114</td>\n",
       "    </tr>\n",
       "    <tr>\n",
       "      <th>4</th>\n",
       "      <td>AD02</td>\n",
       "      <td>Gulak Community Study Centre</td>\n",
       "      <td>100</td>\n",
       "      <td>26</td>\n",
       "      <td>23</td>\n",
       "    </tr>\n",
       "    <tr>\n",
       "      <th>...</th>\n",
       "      <td>...</td>\n",
       "      <td>...</td>\n",
       "      <td>...</td>\n",
       "      <td>...</td>\n",
       "      <td>...</td>\n",
       "    </tr>\n",
       "    <tr>\n",
       "      <th>859</th>\n",
       "      <td>TR01</td>\n",
       "      <td>Jalingo Study Centre</td>\n",
       "      <td>PHD</td>\n",
       "      <td>0</td>\n",
       "      <td>0</td>\n",
       "    </tr>\n",
       "    <tr>\n",
       "      <th>860</th>\n",
       "      <td>TR02</td>\n",
       "      <td>Wukari Study Centre</td>\n",
       "      <td>PHD</td>\n",
       "      <td>2</td>\n",
       "      <td>0</td>\n",
       "    </tr>\n",
       "    <tr>\n",
       "      <th>861</th>\n",
       "      <td>UU00</td>\n",
       "      <td>Unknown</td>\n",
       "      <td>PHD</td>\n",
       "      <td>0</td>\n",
       "      <td>0</td>\n",
       "    </tr>\n",
       "    <tr>\n",
       "      <th>862</th>\n",
       "      <td>YB01</td>\n",
       "      <td>Damaturu Study Centre</td>\n",
       "      <td>PHD</td>\n",
       "      <td>1</td>\n",
       "      <td>0</td>\n",
       "    </tr>\n",
       "    <tr>\n",
       "      <th>863</th>\n",
       "      <td>ZM01</td>\n",
       "      <td>Gusau Study Centre</td>\n",
       "      <td>PHD</td>\n",
       "      <td>2</td>\n",
       "      <td>0</td>\n",
       "    </tr>\n",
       "  </tbody>\n",
       "</table>\n",
       "<p>864 rows × 5 columns</p>\n",
       "</div>"
      ],
      "text/plain": [
       "     Code                                     Centre Levels  Enrolled  \\\n",
       "0    AB01                       Umudike Study Centre    100       157   \n",
       "1    AB02  Umuahia Correctional Service Study Centre    100         0   \n",
       "2    AB03               Asaga Community Study Centre    100        19   \n",
       "3    AD01                          Yola Study Centre    100       173   \n",
       "4    AD02               Gulak Community Study Centre    100        26   \n",
       "..    ...                                        ...    ...       ...   \n",
       "859  TR01                       Jalingo Study Centre    PHD         0   \n",
       "860  TR02                        Wukari Study Centre    PHD         2   \n",
       "861  UU00                                    Unknown    PHD         0   \n",
       "862  YB01                      Damaturu Study Centre    PHD         1   \n",
       "863  ZM01                         Gusau Study Centre    PHD         2   \n",
       "\n",
       "     Registered  \n",
       "0            99  \n",
       "1             0  \n",
       "2            17  \n",
       "3           114  \n",
       "4            23  \n",
       "..          ...  \n",
       "859           0  \n",
       "860           0  \n",
       "861           0  \n",
       "862           0  \n",
       "863           0  \n",
       "\n",
       "[864 rows x 5 columns]"
      ]
     },
     "execution_count": 21,
     "metadata": {},
     "output_type": "execute_result"
    }
   ],
   "source": [
    "df"
   ]
  },
  {
   "cell_type": "code",
   "execution_count": 22,
   "id": "7c6d2ee7",
   "metadata": {},
   "outputs": [
    {
     "data": {
      "text/html": [
       "<div>\n",
       "<style scoped>\n",
       "    .dataframe tbody tr th:only-of-type {\n",
       "        vertical-align: middle;\n",
       "    }\n",
       "\n",
       "    .dataframe tbody tr th {\n",
       "        vertical-align: top;\n",
       "    }\n",
       "\n",
       "    .dataframe thead th {\n",
       "        text-align: right;\n",
       "    }\n",
       "</style>\n",
       "<table border=\"1\" class=\"dataframe\">\n",
       "  <thead>\n",
       "    <tr style=\"text-align: right;\">\n",
       "      <th></th>\n",
       "      <th>Enrolled</th>\n",
       "      <th>Registered</th>\n",
       "    </tr>\n",
       "  </thead>\n",
       "  <tbody>\n",
       "    <tr>\n",
       "      <th>count</th>\n",
       "      <td>864.000000</td>\n",
       "      <td>864.000000</td>\n",
       "    </tr>\n",
       "    <tr>\n",
       "      <th>mean</th>\n",
       "      <td>791.659722</td>\n",
       "      <td>122.319444</td>\n",
       "    </tr>\n",
       "    <tr>\n",
       "      <th>std</th>\n",
       "      <td>3086.002314</td>\n",
       "      <td>282.883870</td>\n",
       "    </tr>\n",
       "    <tr>\n",
       "      <th>min</th>\n",
       "      <td>0.000000</td>\n",
       "      <td>0.000000</td>\n",
       "    </tr>\n",
       "    <tr>\n",
       "      <th>25%</th>\n",
       "      <td>4.000000</td>\n",
       "      <td>1.000000</td>\n",
       "    </tr>\n",
       "    <tr>\n",
       "      <th>50%</th>\n",
       "      <td>73.500000</td>\n",
       "      <td>25.500000</td>\n",
       "    </tr>\n",
       "    <tr>\n",
       "      <th>75%</th>\n",
       "      <td>449.500000</td>\n",
       "      <td>121.000000</td>\n",
       "    </tr>\n",
       "    <tr>\n",
       "      <th>max</th>\n",
       "      <td>59977.000000</td>\n",
       "      <td>3156.000000</td>\n",
       "    </tr>\n",
       "  </tbody>\n",
       "</table>\n",
       "</div>"
      ],
      "text/plain": [
       "           Enrolled   Registered\n",
       "count    864.000000   864.000000\n",
       "mean     791.659722   122.319444\n",
       "std     3086.002314   282.883870\n",
       "min        0.000000     0.000000\n",
       "25%        4.000000     1.000000\n",
       "50%       73.500000    25.500000\n",
       "75%      449.500000   121.000000\n",
       "max    59977.000000  3156.000000"
      ]
     },
     "execution_count": 22,
     "metadata": {},
     "output_type": "execute_result"
    }
   ],
   "source": [
    "df.describe()"
   ]
  },
  {
   "cell_type": "code",
   "execution_count": 23,
   "id": "978a8821",
   "metadata": {
    "scrolled": false
   },
   "outputs": [
    {
     "data": {
      "text/plain": [
       "array(['Umudike Study Centre',\n",
       "       'Umuahia Correctional Service Study Centre',\n",
       "       'Asaga Community Study Centre', 'Yola Study Centre',\n",
       "       'Gulak Community Study Centre', 'Uyo Study Centre',\n",
       "       'Awka Study Centre',\n",
       "       'Nigeria Correctional Service Special Study Centre Awka',\n",
       "       'Isulo Community Study Centre', 'Azare Community Study Centre',\n",
       "       'Bauchi Study Centre', 'Bogoro Community Study Centre',\n",
       "       'Makurdi Study Centre', 'Otukpo Study Centre',\n",
       "       'Ugbokolo Study Centre', 'Maiduguri Study Centre',\n",
       "       'Yenagoa Study Centre', 'Calabar Study Centre',\n",
       "       'Ikom Community Study Centre', 'Asaba Study Centre',\n",
       "       'Emevor Community Study Centre', 'Owhrode Community Study Centre',\n",
       "       'Sapele Community Study Centre', 'Abakaliki Study Centre',\n",
       "       'Benin Study Centre', 'Fugar Community Study Centre',\n",
       "       'Uromi Community Study Centre', 'Ado-Ekiti Study Centre',\n",
       "       'Awgu Community Study Centre', 'Enugu Study Centre',\n",
       "       'Nigerian Correctional Service Special Study Centre Enugu',\n",
       "       'Opi Community Study Centre Nsuka', 'Abuja Model Study Centre',\n",
       "       'National Union Of Road Transport Workers Special Study Centre Garki Abuja',\n",
       "       'Nigeria Immigration Service Special Study Centre Abuja',\n",
       "       'Nigeria Police Special Study Centre Kubwa Abuja',\n",
       "       'Nigeria Security And Civil Defence Special Study Centre Sauka Abuja',\n",
       "       'Special Study Centre Nigerian Correctional Service National Headquarters Abuja',\n",
       "       'Viite Special Study Centre Abuja', 'Wuse II Study Centre Abuja',\n",
       "       'Kuje Correctional Service Study Centre', 'Gombe Study Centre',\n",
       "       'Owerri Study Centre', 'Dutse Study Centre',\n",
       "       'Hadejia Study Centre', 'Kebbi Study Centre',\n",
       "       'Kaduna Study Centre', 'Kagoro Study Centre',\n",
       "       'Nigerian Air Force Special Study Centre Kaduna',\n",
       "       'Kaduna Correctional Service Study Centre',\n",
       "       'Idah Community Study Centre', 'Iyara Community Study Centre',\n",
       "       'Lokoja Study Centre', 'Ogori Community Study Centre',\n",
       "       'Kano Study Centre', 'Shanono Study Centre', 'Bagwai Study Centre',\n",
       "       'Rimi Gado Study Centre', 'Dawakin Tofa Study Centre',\n",
       "       'Kabo Study Centre', 'Tofa Study Centre', 'Bichi Study Centre',\n",
       "       'Danbatta Study Centre', 'Gwarzo Study Centre',\n",
       "       'Kunchi Study Centre', 'Makoda Study Centre',\n",
       "       'Gabasawa Study Centre', 'Tsanyawa Study Centre',\n",
       "       'Dawakin Kudu Study Centre', 'Fagge Study Centre',\n",
       "       'Kwaciri Study Centre', 'Katsina Study Centre',\n",
       "       'Masari Community Study Centre', 'Ilorin Study Centre',\n",
       "       'Nigeria Army Special Study Centre Ilorin',\n",
       "       'Offa Community Study Centre', 'Lagos Study Centre',\n",
       "       'Mccarthy Study Centre Lagos', 'Mushin Study Centre Lagos',\n",
       "       'Nigeria Navy Special Study Centre Apapa Lagos',\n",
       "       'Nigerian Medium Security Correctional Service Special Study Centre Kirikiri Lagos',\n",
       "       'Nigerian Maximum Security Correctional Service Special Study Centre Kirikiri',\n",
       "       'Nigerian Female Correctional Service Special Study Centre Kirikiri',\n",
       "       'Nigeria Correctional Service Special Study Centre Ikoyi',\n",
       "       'Minna Study Centre', 'Lafia Study Centre',\n",
       "       'Nigeria Correctional Service Special Study Centre Keffi',\n",
       "       'Lafia Correctional Service Study Centre', 'Abeokuta Study Centre',\n",
       "       'Awa-Ijebu Community Study Centre',\n",
       "       'Abeokuta Correctional Service Study Centre', 'Akure Study Centre',\n",
       "       'Isua-Akoko Community Study Centre', 'Iwo Study Centre',\n",
       "       'Osogbo Study Centre', 'Otan-Ayegbaju Community Study Centre',\n",
       "       'ILESHA CORRECTIONAL SERVICE SPECIAL STUDY CENTRE',\n",
       "       'Ibadan Study Centre', 'Kisi Community Study Centre',\n",
       "       'Jos Study Centre',\n",
       "       'Nigerian Correctional Service Special Study Centre Port-Harcourt',\n",
       "       'Portharcourt Study Centre', 'Sokoto Study Centre',\n",
       "       'Jalingo Study Centre', 'Wukari Study Centre', 'Unknown',\n",
       "       'Damaturu Study Centre', 'Gusau Study Centre'], dtype=object)"
      ]
     },
     "execution_count": 23,
     "metadata": {},
     "output_type": "execute_result"
    }
   ],
   "source": [
    "df.Centre.unique()"
   ]
  },
  {
   "cell_type": "markdown",
   "id": "105bf0c9",
   "metadata": {},
   "source": [
    "##### Tidiness \n",
    "- Dropping Centre name \"Unknown\""
   ]
  },
  {
   "cell_type": "markdown",
   "id": "6bc6d006",
   "metadata": {},
   "source": [
    "#### Cleaning \n",
    "\n",
    "##### Dropping centre name \"Unknown\""
   ]
  },
  {
   "cell_type": "code",
   "execution_count": 24,
   "id": "8d8be68c",
   "metadata": {},
   "outputs": [],
   "source": [
    "df = df[df.Centre != 'Unknown']"
   ]
  },
  {
   "cell_type": "markdown",
   "id": "cce4c501",
   "metadata": {},
   "source": [
    "### Analysis \n",
    "- What is percentage of students that enrolled for the semester but did not register. \n",
    "- What level records the highest percentage of students that enrolled but did not register\n",
    "- What study centre records the highest percentage of students that enrolled but did not register \n",
    "- What centre records the highest registration and enrollment."
   ]
  },
  {
   "cell_type": "markdown",
   "id": "4e278828",
   "metadata": {},
   "source": [
    "#### What is percentage of students that enrolled for the semester but did not register."
   ]
  },
  {
   "cell_type": "code",
   "execution_count": 26,
   "id": "d532c645",
   "metadata": {},
   "outputs": [
    {
     "data": {
      "image/png": "[encoded data removed]",
      "text/plain": [
       "<Figure size 432x288 with 1 Axes>"
      ]
     },
     "metadata": {
      "needs_background": "light"
     },
     "output_type": "display_data"
    }
   ],
   "source": [
    "plt.bar(['Enrolled','Registered'], [df.Enrolled.sum(), df.Registered.sum()])\n",
    "plt.title('Total Number Of Semester Enrollment And Registration 2022/1');"
   ]
  },
  {
   "cell_type": "code",
   "execution_count": 27,
   "id": "3987da0d",
   "metadata": {},
   "outputs": [
    {
     "data": {
      "text/plain": [
       "'85%'"
      ]
     },
     "execution_count": 27,
     "metadata": {},
     "output_type": "execute_result"
    }
   ],
   "source": [
    "# calculate the difference betwenr total number enrolled and registered \n",
    "diff = df.Enrolled.sum() - df.Registered.sum()\n",
    "\n",
    "# calculate the percentage of the number of students that did not register \n",
    "percent_not = (diff / df.Enrolled.sum()) * 100\n",
    "f'{percent_not :.0f}%'"
   ]
  },
  {
   "cell_type": "markdown",
   "id": "5a8e368b",
   "metadata": {},
   "source": [
    "#### What level records the highest percentage of students that enrolled but did not register"
   ]
  },
  {
   "cell_type": "code",
   "execution_count": 28,
   "id": "d69ad627",
   "metadata": {},
   "outputs": [],
   "source": [
    "enrol_level = df.groupby('Levels')['Enrolled'].sum()"
   ]
  },
  {
   "cell_type": "code",
   "execution_count": 29,
   "id": "cafea13a",
   "metadata": {},
   "outputs": [],
   "source": [
    "register_level = df.groupby('Levels')['Registered'].sum()"
   ]
  },
  {
   "cell_type": "code",
   "execution_count": 30,
   "id": "cffba3fe",
   "metadata": {},
   "outputs": [],
   "source": [
    "level_diff = enrol_level - register_level"
   ]
  },
  {
   "cell_type": "code",
   "execution_count": 62,
   "id": "0c6d30d6",
   "metadata": {
    "scrolled": false
   },
   "outputs": [],
   "source": [
    "level_percent = level_diff / enrol_level * 100"
   ]
  },
  {
   "cell_type": "code",
   "execution_count": 60,
   "id": "523ce6a9",
   "metadata": {},
   "outputs": [
    {
     "data": {
      "text/plain": [
       "Levels\n",
       "400        92.351241\n",
       "500        90.904595\n",
       "PGD        89.874341\n",
       "PHD        85.279188\n",
       "Masters    84.508710\n",
       "200        48.216859\n",
       "300        43.879227\n",
       "100        32.417726\n",
       "dtype: float64"
      ]
     },
     "execution_count": 60,
     "metadata": {},
     "output_type": "execute_result"
    }
   ],
   "source": [
    "level_percent.sort_values(ascending=False)"
   ]
  },
  {
   "cell_type": "markdown",
   "id": "41ab29dc",
   "metadata": {},
   "source": [
    "#### What study centre records the highest percentage of students that enrolled but did not register"
   ]
  },
  {
   "cell_type": "code",
   "execution_count": 133,
   "id": "dcbaf477",
   "metadata": {},
   "outputs": [],
   "source": [
    "enrol_centre = df.groupby('Centre')['Enrolled'].sum()"
   ]
  },
  {
   "cell_type": "code",
   "execution_count": 134,
   "id": "fcd18c18",
   "metadata": {},
   "outputs": [],
   "source": [
    "register_centre = df.groupby('Centre')['Registered'].sum()"
   ]
  },
  {
   "cell_type": "code",
   "execution_count": 135,
   "id": "90cfd6e0",
   "metadata": {},
   "outputs": [],
   "source": [
    "centre_diff = enrol_centre - register_centre"
   ]
  },
  {
   "cell_type": "code",
   "execution_count": 136,
   "id": "f91bb62d",
   "metadata": {},
   "outputs": [],
   "source": [
    "centre_percent = (centre_diff / enrol_centre) * 100"
   ]
  },
  {
   "cell_type": "code",
   "execution_count": 137,
   "id": "dd67d3a8",
   "metadata": {},
   "outputs": [
    {
     "data": {
      "text/plain": [
       "Centre\n",
       "Enugu Study Centre                                  92.740371\n",
       "Benin Study Centre                                  92.643938\n",
       "Awa-Ijebu Community Study Centre                    92.338558\n",
       "Nigeria Navy Special Study Centre Apapa Lagos       92.044694\n",
       "Awka Study Centre                                   91.768922\n",
       "                                                      ...    \n",
       "Kaduna Correctional Service Study Centre            31.250000\n",
       "Kabo Study Centre                                   31.111111\n",
       "Kuje Correctional Service Study Centre              29.411765\n",
       "Abeokuta Correctional Service Study Centre          18.823529\n",
       "ILESHA CORRECTIONAL SERVICE SPECIAL STUDY CENTRE    11.111111\n",
       "Length: 107, dtype: float64"
      ]
     },
     "execution_count": 137,
     "metadata": {},
     "output_type": "execute_result"
    }
   ],
   "source": [
    "centre_percent.sort_values(ascending=False)"
   ]
  },
  {
   "cell_type": "markdown",
   "id": "090225da",
   "metadata": {},
   "source": [
    "#### What centre records the highest registration and enrollment."
   ]
  },
  {
   "cell_type": "code",
   "execution_count": 148,
   "id": "40faf569",
   "metadata": {},
   "outputs": [
    {
     "data": {
      "text/plain": [
       "Centre\n",
       "Lagos Study Centre                                                    11601\n",
       "Abuja Model Study Centre                                               8231\n",
       "Wuse II Study Centre Abuja                                             7151\n",
       "Mccarthy Study Centre Lagos                                            5242\n",
       "Ibadan Study Centre                                                    4161\n",
       "                                                                      ...  \n",
       "Shanono Study Centre                                                      7\n",
       "Dawakin Tofa Study Centre                                                 5\n",
       "Makoda Study Centre                                                       5\n",
       "Gabasawa Study Centre                                                     4\n",
       "Nigerian Female Correctional Service Special Study Centre Kirikiri        3\n",
       "Name: Registered, Length: 107, dtype: int64"
      ]
     },
     "execution_count": 148,
     "metadata": {},
     "output_type": "execute_result"
    }
   ],
   "source": [
    "high_register = df.groupby('Centre')['Registered'].sum()\n",
    "high_register.sort_values(ascending = False)"
   ]
  },
  {
   "cell_type": "code",
   "execution_count": 149,
   "id": "d4793e49",
   "metadata": {},
   "outputs": [
    {
     "data": {
      "text/plain": [
       "Centre\n",
       "Lagos Study Centre                                                    92855\n",
       "Abuja Model Study Centre                                              53886\n",
       "Benin Study Centre                                                    35345\n",
       "Portharcourt Study Centre                                             33644\n",
       "Abeokuta Study Centre                                                 30803\n",
       "                                                                      ...  \n",
       "Umuahia Correctional Service Study Centre                                21\n",
       "Nigeria Correctional Service Special Study Centre Awka                   20\n",
       "Tsanyawa Study Centre                                                    19\n",
       "ILESHA CORRECTIONAL SERVICE SPECIAL STUDY CENTRE                         18\n",
       "Nigerian Female Correctional Service Special Study Centre Kirikiri       12\n",
       "Name: Enrolled, Length: 107, dtype: int64"
      ]
     },
     "execution_count": 149,
     "metadata": {},
     "output_type": "execute_result"
    }
   ],
   "source": [
    "high_enrol = df.groupby('Centre')['Enrolled'].sum()\n",
    "high_enrol.sort_values(ascending = False)"
   ]
  },
  {
   "cell_type": "markdown",
   "id": "bec19196",
   "metadata": {},
   "source": [
    "### Conclusion \n",
    "- What is percentage of students that enrolled for the semester but did not register? **85%**\n",
    "- What level records the highest percentage of students that enrolled but did not register? **400level with 92%**\n",
    "- What study centre records the highest percentage of students that enrolled but did not register? **Enugu Study Centre with 93%**\n",
    "- What centre records the highest registration and enrollment? **Lagos Study Centre with 92,855 enrollment and 11,601 registration.**"
   ]
  }
 ],
 "metadata": {
  "kernelspec": {
   "display_name": "Python 3 (ipykernel)",
   "language": "python",
   "name": "python3"
  },
  "language_info": {
   "codemirror_mode": {
    "name": "ipython",
    "version": 3
   },
   "file_extension": ".py",
   "mimetype": "text/x-python",
   "name": "python",
   "nbconvert_exporter": "python",
   "pygments_lexer": "ipython3",
   "version": "3.8.3"
  }
 },
 "nbformat": 4,
 "nbformat_minor": 5
}
